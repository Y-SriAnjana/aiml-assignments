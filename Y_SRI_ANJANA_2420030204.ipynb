{
  "nbformat": 4,
  "nbformat_minor": 0,
  "metadata": {
    "kernelspec": {
      "display_name": "Python 3",
      "language": "python",
      "name": "python3"
    },
    "language_info": {
      "codemirror_mode": {
        "name": "ipython",
        "version": 3
      },
      "file_extension": ".py",
      "mimetype": "text/x-python",
      "name": "python",
      "nbconvert_exporter": "python",
      "pygments_lexer": "ipython3",
      "version": "3.8.3"
    },
    "colab": {
      "provenance": [],
      "toc_visible": true
    }
  },
  "cells": [
    {
      "cell_type": "markdown",
      "metadata": {
        "id": "nKOL_gO79Bry"
      },
      "source": [
        "### Vairable Declaration"
      ]
    },
    {
      "cell_type": "markdown",
      "source": [
        "# New Section"
      ],
      "metadata": {
        "id": "teS7LdkeIbIP"
      }
    },
    {
      "cell_type": "code",
      "metadata": {
        "id": "Fk9nOZqK9Br0",
        "outputId": "452516d7-e573-4eba-91f7-6ffbc518acbd"
      },
      "source": [
        "var1 = 10\n",
        "var2 = 12\n",
        "var3 = var1 + var2\n",
        "print(var3)"
      ],
      "execution_count": null,
      "outputs": [
        {
          "output_type": "stream",
          "text": [
            "22\n"
          ],
          "name": "stdout"
        }
      ]
    },
    {
      "cell_type": "code",
      "metadata": {
        "id": "cdqadcg39Br6",
        "outputId": "4da2c4ce-08ff-4729-f2e9-7f4e93725782"
      },
      "source": [
        "type(var3)"
      ],
      "execution_count": null,
      "outputs": [
        {
          "output_type": "execute_result",
          "data": {
            "text/plain": [
              "int"
            ]
          },
          "metadata": {
            "tags": []
          },
          "execution_count": 2
        }
      ]
    },
    {
      "cell_type": "code",
      "metadata": {
        "id": "Upv8WMlZ9Br-",
        "outputId": "b3ccb6c4-054b-4038-c021-640617841359"
      },
      "source": [
        "var1 = 10\n",
        "var2 = 12.2\n",
        "var3 = var1 + var2\n",
        "print(var3)"
      ],
      "execution_count": null,
      "outputs": [
        {
          "output_type": "stream",
          "text": [
            "22.2\n"
          ],
          "name": "stdout"
        }
      ]
    },
    {
      "cell_type": "code",
      "metadata": {
        "id": "J7d-GFcJ9BsE",
        "outputId": "281c2456-d2fd-448f-bc86-6c40e7bc87ef"
      },
      "source": [
        "type(var3)"
      ],
      "execution_count": null,
      "outputs": [
        {
          "output_type": "execute_result",
          "data": {
            "text/plain": [
              "float"
            ]
          },
          "metadata": {
            "tags": []
          },
          "execution_count": 4
        }
      ]
    },
    {
      "cell_type": "markdown",
      "metadata": {
        "id": "uaSX_O2F9BsH"
      },
      "source": [
        "### Python can be used as Calculator"
      ]
    },
    {
      "cell_type": "markdown",
      "metadata": {
        "id": "l1-XOVmD9BsI"
      },
      "source": [
        "* **Numbers** - operators +, -, * and /, parentheses (()) can be used for grouping"
      ]
    },
    {
      "cell_type": "code",
      "metadata": {
        "id": "h-KtDaUg9BsI",
        "outputId": "536595e8-5d24-436b-ac4a-52cf72e9449b",
        "colab": {
          "base_uri": "https://localhost:8080/"
        }
      },
      "source": [
        "3+6"
      ],
      "execution_count": null,
      "outputs": [
        {
          "output_type": "execute_result",
          "data": {
            "text/plain": [
              "9"
            ]
          },
          "metadata": {},
          "execution_count": 5
        }
      ]
    },
    {
      "cell_type": "code",
      "metadata": {
        "id": "zIrXE0Bz9BsM",
        "outputId": "13d26ddc-4f02-481e-b0d6-db94a3aff87c",
        "colab": {
          "base_uri": "https://localhost:8080/"
        }
      },
      "source": [
        "(50 - 5*6) / 4"
      ],
      "execution_count": null,
      "outputs": [
        {
          "output_type": "execute_result",
          "data": {
            "text/plain": [
              "5.0"
            ]
          },
          "metadata": {},
          "execution_count": 1
        }
      ]
    },
    {
      "cell_type": "markdown",
      "metadata": {
        "id": "00ePOabV9BsR"
      },
      "source": [
        "* Division (/) always returns a float. To do floor division and get an integer result (discarding any fractional result) you can use the // operator"
      ]
    },
    {
      "cell_type": "code",
      "metadata": {
        "id": "REPGURsO9BsS",
        "outputId": "e4b69263-4257-4112-8191-cc1f1a589781",
        "colab": {
          "base_uri": "https://localhost:8080/"
        }
      },
      "source": [
        "17 / 3"
      ],
      "execution_count": null,
      "outputs": [
        {
          "output_type": "execute_result",
          "data": {
            "text/plain": [
              "5.666666666666667"
            ]
          },
          "metadata": {},
          "execution_count": 2
        }
      ]
    },
    {
      "cell_type": "code",
      "metadata": {
        "id": "X4x4g02j9BsV",
        "outputId": "976e5f02-4659-4e32-e6cc-1c9c4a2ab87a",
        "colab": {
          "base_uri": "https://localhost:8080/"
        }
      },
      "source": [
        "17 // 3"
      ],
      "execution_count": null,
      "outputs": [
        {
          "output_type": "execute_result",
          "data": {
            "text/plain": [
              "5"
            ]
          },
          "metadata": {},
          "execution_count": 3
        }
      ]
    },
    {
      "cell_type": "markdown",
      "metadata": {
        "id": "QtOCftG19Bsc"
      },
      "source": [
        "* To calculate the remainder you can use MOD (%) operator"
      ]
    },
    {
      "cell_type": "code",
      "metadata": {
        "id": "GQhQZNlc9Bsd",
        "outputId": "f309e787-19ce-4a20-daae-d8dc661f2aa3",
        "colab": {
          "base_uri": "https://localhost:8080/"
        }
      },
      "source": [
        "17 % 3"
      ],
      "execution_count": null,
      "outputs": [
        {
          "output_type": "execute_result",
          "data": {
            "text/plain": [
              "2"
            ]
          },
          "metadata": {},
          "execution_count": 4
        }
      ]
    },
    {
      "cell_type": "markdown",
      "metadata": {
        "id": "cpWq3ryO9Bsg"
      },
      "source": [
        "**Strings** - Python can also manipulate strings, which can be expressed in several ways. They can be enclosed in single quotes ('...') or double quotes (\"...\") with the same result. The character '\\' can be used to escape single/double quotes"
      ]
    },
    {
      "cell_type": "code",
      "metadata": {
        "id": "GsZGLT0v9Bsh",
        "outputId": "4e618792-4b2b-40b2-8af5-cc2ab25e5934",
        "colab": {
          "base_uri": "https://localhost:8080/",
          "height": 35
        }
      },
      "source": [
        "'sam\\'s eggs'"
      ],
      "execution_count": null,
      "outputs": [
        {
          "output_type": "execute_result",
          "data": {
            "text/plain": [
              "\"sam's eggs\""
            ],
            "application/vnd.google.colaboratory.intrinsic+json": {
              "type": "string"
            }
          },
          "metadata": {},
          "execution_count": 6
        }
      ]
    },
    {
      "cell_type": "code",
      "metadata": {
        "id": "_K2iHnM09Bsk"
      },
      "source": [
        "s = 'First line.\\tSecond line.'"
      ],
      "execution_count": null,
      "outputs": []
    },
    {
      "cell_type": "code",
      "metadata": {
        "id": "Rl8_AUT09Bsp",
        "outputId": "9546f085-c8ec-4094-bde1-a30c4c6a4bd4"
      },
      "source": [
        "s"
      ],
      "execution_count": null,
      "outputs": [
        {
          "output_type": "execute_result",
          "data": {
            "text/plain": [
              "'First line.\\tSecond line.'"
            ]
          },
          "metadata": {
            "tags": []
          },
          "execution_count": 41
        }
      ]
    },
    {
      "cell_type": "code",
      "metadata": {
        "id": "rRa-juV89Bsz",
        "outputId": "762cada3-8498-47e3-fdb3-a8b9a078a346",
        "colab": {
          "base_uri": "https://localhost:8080/"
        }
      },
      "source": [
        "print(s)"
      ],
      "execution_count": null,
      "outputs": [
        {
          "output_type": "stream",
          "name": "stdout",
          "text": [
            "First line.\tSecond line.\n"
          ]
        }
      ]
    },
    {
      "cell_type": "code",
      "metadata": {
        "id": "KHWzaWKy9Bs4",
        "outputId": "4f75bc62-4330-45ea-e23f-a8481aa3bcc8",
        "colab": {
          "base_uri": "https://localhost:8080/"
        }
      },
      "source": [
        "print( 'First line.\\nSecond line.')"
      ],
      "execution_count": null,
      "outputs": [
        {
          "output_type": "stream",
          "name": "stdout",
          "text": [
            "First line.\n",
            "Second line.\n"
          ]
        }
      ]
    },
    {
      "cell_type": "markdown",
      "metadata": {
        "id": "UBnFsecZ9Bs7"
      },
      "source": [
        "* Strings can be concatenated (glued together) with the + operator, and repeated with *"
      ]
    },
    {
      "cell_type": "code",
      "metadata": {
        "id": "JQcbw48U9Bs8",
        "outputId": "7f09a1e9-5081-4f21-f425-4ac8e3e17356"
      },
      "source": [
        "5*'un' + 'ited'"
      ],
      "execution_count": null,
      "outputs": [
        {
          "output_type": "execute_result",
          "data": {
            "text/plain": [
              "'unununununited'"
            ]
          },
          "metadata": {
            "tags": []
          },
          "execution_count": 45
        }
      ]
    },
    {
      "cell_type": "markdown",
      "metadata": {
        "id": "EVdgAbZu9Bs_"
      },
      "source": [
        "* Two or more string literals (i.e. the ones enclosed between quotes) next to each other are automatically concatenated."
      ]
    },
    {
      "cell_type": "code",
      "metadata": {
        "id": "4QszbCyQ9BtA",
        "outputId": "60364700-7808-4370-9eeb-8ff83bf6107e"
      },
      "source": [
        "a = 'Py'       'thon'\n",
        "print(a)"
      ],
      "execution_count": null,
      "outputs": [
        {
          "output_type": "stream",
          "text": [
            "Python\n"
          ],
          "name": "stdout"
        }
      ]
    },
    {
      "cell_type": "markdown",
      "metadata": {
        "id": "EZjWjbnr9BtF"
      },
      "source": [
        "* **Strings can be indexed** (subscripted), with the first character having index 0."
      ]
    },
    {
      "cell_type": "code",
      "metadata": {
        "id": "Su7Q4th_9BtG"
      },
      "source": [
        "word = 'Python'"
      ],
      "execution_count": null,
      "outputs": []
    },
    {
      "cell_type": "code",
      "metadata": {
        "id": "-0eIQX2O9BtL",
        "outputId": "fc9e1d55-f0a0-48bf-ceef-506c66e21a53"
      },
      "source": [
        "print(word)"
      ],
      "execution_count": null,
      "outputs": [
        {
          "output_type": "stream",
          "text": [
            "Python\n"
          ],
          "name": "stdout"
        }
      ]
    },
    {
      "cell_type": "code",
      "metadata": {
        "id": "9dkMKCh99BtO",
        "outputId": "79699aa7-d13d-4bfc-d450-237629d5e5bc"
      },
      "source": [
        "print(word[0])"
      ],
      "execution_count": null,
      "outputs": [
        {
          "output_type": "stream",
          "text": [
            "P\n"
          ],
          "name": "stdout"
        }
      ]
    },
    {
      "cell_type": "code",
      "metadata": {
        "id": "LjjUIbVB9BtQ",
        "outputId": "53c01a0e-4913-425b-93ab-a2916d271792"
      },
      "source": [
        "print(word[5])"
      ],
      "execution_count": null,
      "outputs": [
        {
          "output_type": "stream",
          "text": [
            "n\n"
          ],
          "name": "stdout"
        }
      ]
    },
    {
      "cell_type": "markdown",
      "metadata": {
        "id": "OSoY-puv9BtT"
      },
      "source": [
        "* Indices may also be **negative numbers**, to start counting from the right"
      ]
    },
    {
      "cell_type": "code",
      "metadata": {
        "id": "tRc4KWix9BtU",
        "outputId": "f1ba53ce-dd54-41eb-8d7d-eada04e1a40d"
      },
      "source": [
        "word[-1]"
      ],
      "execution_count": null,
      "outputs": [
        {
          "output_type": "execute_result",
          "data": {
            "text/plain": [
              "'n'"
            ]
          },
          "metadata": {
            "tags": []
          },
          "execution_count": 20
        }
      ]
    },
    {
      "cell_type": "code",
      "metadata": {
        "id": "1OlnDLUR9BtX",
        "outputId": "4a7de237-585f-463a-c68d-21b78972db86"
      },
      "source": [
        "word[-6]"
      ],
      "execution_count": null,
      "outputs": [
        {
          "output_type": "execute_result",
          "data": {
            "text/plain": [
              "'P'"
            ]
          },
          "metadata": {
            "tags": []
          },
          "execution_count": 21
        }
      ]
    },
    {
      "cell_type": "markdown",
      "metadata": {
        "id": "rziH7HT59Btc"
      },
      "source": [
        "* **String Slicing** : While indexing is used to obtain individual characters, **slicing** allows you to obtain substring"
      ]
    },
    {
      "cell_type": "code",
      "metadata": {
        "id": "80RK6tDI9Btd",
        "outputId": "e8aea5d0-8aa0-4ca7-de94-15b88efd2be3"
      },
      "source": [
        "word"
      ],
      "execution_count": null,
      "outputs": [
        {
          "output_type": "execute_result",
          "data": {
            "text/plain": [
              "'Python'"
            ]
          },
          "metadata": {
            "tags": []
          },
          "execution_count": 56
        }
      ]
    },
    {
      "cell_type": "code",
      "metadata": {
        "id": "RfUZ7Mni9Btl",
        "outputId": "f6020cce-4728-4838-d4df-e3902aacec28"
      },
      "source": [
        "word[2:4]"
      ],
      "execution_count": null,
      "outputs": [
        {
          "output_type": "execute_result",
          "data": {
            "text/plain": [
              "'th'"
            ]
          },
          "metadata": {
            "tags": []
          },
          "execution_count": 23
        }
      ]
    },
    {
      "cell_type": "code",
      "metadata": {
        "id": "aXouHz_a9Btp",
        "outputId": "7584e84a-7248-401a-9f06-7cd1cd51a131"
      },
      "source": [
        "word[ :4]"
      ],
      "execution_count": null,
      "outputs": [
        {
          "output_type": "execute_result",
          "data": {
            "text/plain": [
              "'Pyth'"
            ]
          },
          "metadata": {
            "tags": []
          },
          "execution_count": 57
        }
      ]
    },
    {
      "cell_type": "code",
      "metadata": {
        "id": "VrrGmA-n9Btt",
        "outputId": "154151ee-7327-4c79-e344-59b1f30688e7"
      },
      "source": [
        "word[ 2: ]"
      ],
      "execution_count": null,
      "outputs": [
        {
          "output_type": "execute_result",
          "data": {
            "text/plain": [
              "'thon'"
            ]
          },
          "metadata": {
            "tags": []
          },
          "execution_count": 59
        }
      ]
    },
    {
      "cell_type": "markdown",
      "metadata": {
        "id": "waeljvvZ9Btz"
      },
      "source": [
        "* Note how the start is always included, and the end always excluded.\n",
        "* This makes sure that s[:i] + s[i:] is always equal to s"
      ]
    },
    {
      "cell_type": "code",
      "metadata": {
        "id": "Gjn8_ZFB9Bt0",
        "outputId": "5651b8c9-b1e2-45f6-9986-d1fc06d93053"
      },
      "source": [
        "word[ :4] + word[4: ]"
      ],
      "execution_count": null,
      "outputs": [
        {
          "output_type": "execute_result",
          "data": {
            "text/plain": [
              "'Python'"
            ]
          },
          "metadata": {
            "tags": []
          },
          "execution_count": 60
        }
      ]
    },
    {
      "cell_type": "markdown",
      "metadata": {
        "id": "vuoe5QmB9Bt3"
      },
      "source": [
        "* Sclicint with step"
      ]
    },
    {
      "cell_type": "code",
      "metadata": {
        "id": "5AgxvYA89Bt3",
        "outputId": "68c28bac-fb42-4a81-d399-6291d15be6e3"
      },
      "source": [
        "word[0:6 : 2]"
      ],
      "execution_count": null,
      "outputs": [
        {
          "output_type": "execute_result",
          "data": {
            "text/plain": [
              "'Pto'"
            ]
          },
          "metadata": {
            "tags": []
          },
          "execution_count": 68
        }
      ]
    },
    {
      "cell_type": "code",
      "metadata": {
        "id": "mjsSTayq9Bt-",
        "outputId": "85066a3a-ea86-4d74-85fa-a878c30391ab"
      },
      "source": [
        "word[ : : -1]"
      ],
      "execution_count": null,
      "outputs": [
        {
          "output_type": "execute_result",
          "data": {
            "text/plain": [
              "'nohtyP'"
            ]
          },
          "metadata": {
            "tags": []
          },
          "execution_count": 70
        }
      ]
    },
    {
      "cell_type": "markdown",
      "metadata": {
        "id": "c2ldUesv9BuD"
      },
      "source": [
        "* **String Slice/Index** - \"string index out of range\" error"
      ]
    },
    {
      "cell_type": "code",
      "metadata": {
        "id": "kGDeujcK9BuE",
        "outputId": "938ebd52-f36c-4079-9cdc-609d89e4ffc3",
        "colab": {
          "base_uri": "https://localhost:8080/",
          "height": 141
        }
      },
      "source": [
        "word[20]"
      ],
      "execution_count": null,
      "outputs": [
        {
          "output_type": "error",
          "ename": "NameError",
          "evalue": "name 'word' is not defined",
          "traceback": [
            "\u001b[0;31m---------------------------------------------------------------------------\u001b[0m",
            "\u001b[0;31mNameError\u001b[0m                                 Traceback (most recent call last)",
            "\u001b[0;32m/tmp/ipython-input-2393027609.py\u001b[0m in \u001b[0;36m<cell line: 0>\u001b[0;34m()\u001b[0m\n\u001b[0;32m----> 1\u001b[0;31m \u001b[0mword\u001b[0m\u001b[0;34m[\u001b[0m\u001b[0;36m20\u001b[0m\u001b[0;34m]\u001b[0m\u001b[0;34m\u001b[0m\u001b[0;34m\u001b[0m\u001b[0m\n\u001b[0m",
            "\u001b[0;31mNameError\u001b[0m: name 'word' is not defined"
          ]
        }
      ]
    },
    {
      "cell_type": "code",
      "metadata": {
        "id": "4DzTbYkG9BuI",
        "outputId": "a3cf22f5-f0da-4d36-f51d-72fc33d62fcf",
        "colab": {
          "base_uri": "https://localhost:8080/",
          "height": 141
        }
      },
      "source": [
        "word[20:21]"
      ],
      "execution_count": null,
      "outputs": [
        {
          "output_type": "error",
          "ename": "NameError",
          "evalue": "name 'word' is not defined",
          "traceback": [
            "\u001b[0;31m---------------------------------------------------------------------------\u001b[0m",
            "\u001b[0;31mNameError\u001b[0m                                 Traceback (most recent call last)",
            "\u001b[0;32m/tmp/ipython-input-968049449.py\u001b[0m in \u001b[0;36m<cell line: 0>\u001b[0;34m()\u001b[0m\n\u001b[0;32m----> 1\u001b[0;31m \u001b[0mword\u001b[0m\u001b[0;34m[\u001b[0m\u001b[0;36m20\u001b[0m\u001b[0;34m:\u001b[0m\u001b[0;36m21\u001b[0m\u001b[0;34m]\u001b[0m\u001b[0;34m\u001b[0m\u001b[0;34m\u001b[0m\u001b[0m\n\u001b[0m",
            "\u001b[0;31mNameError\u001b[0m: name 'word' is not defined"
          ]
        }
      ]
    },
    {
      "cell_type": "code",
      "metadata": {
        "id": "OCmXuw2O9BuL",
        "outputId": "10251bc9-dd63-4358-ec2f-1d2c79e60edf"
      },
      "source": [
        "word[:]"
      ],
      "execution_count": null,
      "outputs": [
        {
          "output_type": "execute_result",
          "data": {
            "text/plain": [
              "'Python'"
            ]
          },
          "metadata": {
            "tags": []
          },
          "execution_count": 75
        }
      ]
    },
    {
      "cell_type": "code",
      "metadata": {
        "id": "d155BfEy9BuO",
        "outputId": "c07313f8-5d88-4fb2-a940-4c3cc9fc1ae2"
      },
      "source": [
        "word[40:]"
      ],
      "execution_count": null,
      "outputs": [
        {
          "output_type": "execute_result",
          "data": {
            "text/plain": [
              "''"
            ]
          },
          "metadata": {
            "tags": []
          },
          "execution_count": 76
        }
      ]
    },
    {
      "cell_type": "code",
      "metadata": {
        "id": "fJl0V1Vh9BuS",
        "outputId": "4e2673c3-3abd-4f6b-b3d8-014bef2cb00a"
      },
      "source": [
        "'J'+word[1:]"
      ],
      "execution_count": null,
      "outputs": [
        {
          "output_type": "execute_result",
          "data": {
            "text/plain": [
              "'Jython'"
            ]
          },
          "metadata": {
            "tags": []
          },
          "execution_count": 77
        }
      ]
    },
    {
      "cell_type": "code",
      "metadata": {
        "id": "5hNCd8Lb9BuY",
        "outputId": "75b6ec58-7548-4030-f69a-e4bcc7d3d059"
      },
      "source": [
        "len(word)"
      ],
      "execution_count": null,
      "outputs": [
        {
          "output_type": "execute_result",
          "data": {
            "text/plain": [
              "6"
            ]
          },
          "metadata": {
            "tags": []
          },
          "execution_count": 78
        }
      ]
    },
    {
      "cell_type": "code",
      "metadata": {
        "id": "3lM-WHzx9Buc",
        "outputId": "251edd09-19f8-42a0-eda8-4459ab599138"
      },
      "source": [
        "len('Anaconda')"
      ],
      "execution_count": null,
      "outputs": [
        {
          "output_type": "execute_result",
          "data": {
            "text/plain": [
              "8"
            ]
          },
          "metadata": {
            "tags": []
          },
          "execution_count": 80
        }
      ]
    },
    {
      "cell_type": "code",
      "metadata": {
        "id": "0aVMs3iT9Buh"
      },
      "source": [],
      "execution_count": null,
      "outputs": []
    }
  ]
}